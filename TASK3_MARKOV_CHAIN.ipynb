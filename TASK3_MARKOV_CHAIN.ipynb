{
  "nbformat": 4,
  "nbformat_minor": 0,
  "metadata": {
    "colab": {
      "provenance": []
    },
    "kernelspec": {
      "name": "python3",
      "display_name": "Python 3"
    },
    "language_info": {
      "name": "python"
    }
  },
  "cells": [
    {
      "cell_type": "code",
      "source": [
        "def build_markov_chain(text, n=2):\n",
        "    \"\"\"\n",
        "    Build a Markov chain from the given text.\n",
        "    \"\"\"\n",
        "    # Tokenize the text into words\n",
        "    words = text.split()\n",
        "\n",
        "    # Create a default dictionary to hold the Markov chain\n",
        "    markov_chain = defaultdict(list)\n",
        "\n",
        "    # Populate the Markov chain\n",
        "    for i in range(len(words) - n):\n",
        "        # Get the current n-gram\n",
        "        ngram = tuple(words[i:i + n])\n",
        "        # Get the word that follows the n-gram\n",
        "        next_word = words[i + n]\n",
        "        # Append the next word to the chain\n",
        "        markov_chain[ngram].append(next_word)\n",
        "\n",
        "    return markov_chain"
      ],
      "metadata": {
        "id": "IcgueCepPsyC"
      },
      "execution_count": 10,
      "outputs": []
    },
    {
      "cell_type": "code",
      "source": [
        "def generate_text(markov_chain, n=2, length=50):\n",
        "    \"\"\"\n",
        "    Generate text from the given Markov chain.\n",
        "    \"\"\"\n",
        "    # Randomly select a starting n-gram\n",
        "    current_ngram = random.choice(list(markov_chain.keys()))\n",
        "    output = list(current_ngram)\n",
        "\n",
        "    # Generate words\n",
        "    for _ in range(length - n):\n",
        "        next_words = markov_chain.get(current_ngram, [])\n",
        "        if not next_words:\n",
        "            break\n",
        "        # Randomly choose the next word\n",
        "        next_word = random.choice(next_words)\n",
        "        output.append(next_word)\n",
        "        # Update the current n-gram\n",
        "        current_ngram = tuple(output[-n:])\n",
        "\n",
        "    return ' '.join(output)"
      ],
      "metadata": {
        "id": "q3zKCXj5R_uA"
      },
      "execution_count": 11,
      "outputs": []
    },
    {
      "cell_type": "code",
      "source": [
        "input_text = \"\"\"He spilled coffee on her book; she frowned but smiled when he offered to buy her a new one.\n",
        "They now have a shelf full of books they’ve spilled coffee on together.\"\"\""
      ],
      "metadata": {
        "id": "M6XlPfxKSJBm"
      },
      "execution_count": 12,
      "outputs": []
    },
    {
      "cell_type": "code",
      "source": [
        "n = 2  # Size of n-grams\n",
        "markov_chain = build_markov_chain(input_text, n)"
      ],
      "metadata": {
        "id": "jbYRAauZSM0n"
      },
      "execution_count": 13,
      "outputs": []
    },
    {
      "cell_type": "code",
      "source": [
        "[('He', 'spilled'), ('spilled', 'coffee'), ('coffee', 'on'), ('on', 'her'), ('her', 'book;'), ('book;', 'she'), ...]"
      ],
      "metadata": {
        "colab": {
          "base_uri": "https://localhost:8080/"
        },
        "id": "Mj8sJP3fSW5e",
        "outputId": "6a165b82-d3dd-41ae-c647-d18acccdcb47"
      },
      "execution_count": 14,
      "outputs": [
        {
          "output_type": "execute_result",
          "data": {
            "text/plain": [
              "[('He', 'spilled'),\n",
              " ('spilled', 'coffee'),\n",
              " ('coffee', 'on'),\n",
              " ('on', 'her'),\n",
              " ('her', 'book;'),\n",
              " ('book;', 'she'),\n",
              " Ellipsis]"
            ]
          },
          "metadata": {},
          "execution_count": 14
        }
      ]
    },
    {
      "cell_type": "code",
      "source": [
        "print(\"Generated Text:\")\n",
        "print(generate_text(markov_chain, length=50))"
      ],
      "metadata": {
        "colab": {
          "base_uri": "https://localhost:8080/"
        },
        "id": "-Y_GPfZdalpv",
        "outputId": "5e353456-a9a7-461a-b1af-67df08f8959a"
      },
      "execution_count": 19,
      "outputs": [
        {
          "output_type": "stream",
          "name": "stdout",
          "text": [
            "Generated Text:\n",
            "a new one. They now have a shelf full of books they’ve spilled coffee on together.\n"
          ]
        }
      ]
    },
    {
      "cell_type": "code",
      "source": [],
      "metadata": {
        "id": "lm61gYAaa6yN"
      },
      "execution_count": 18,
      "outputs": []
    }
  ]
}